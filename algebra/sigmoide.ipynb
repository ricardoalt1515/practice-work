{
 "cells": [
  {
   "cell_type": "code",
   "execution_count": 2,
   "metadata": {},
   "outputs": [
    {
     "ename": "NameError",
     "evalue": "name 'tensor' is not defined",
     "output_type": "error",
     "traceback": [
      "\u001b[0;31m---------------------------------------------------------------------------\u001b[0m",
      "\u001b[0;31mNameError\u001b[0m                                 Traceback (most recent call last)",
      "Cell \u001b[0;32mIn[2], line 6\u001b[0m\n\u001b[1;32m      3\u001b[0m b \u001b[38;5;241m=\u001b[39m torch\u001b[38;5;241m.\u001b[39mtensor([\u001b[38;5;241m1.0\u001b[39m, \u001b[38;5;241m0.5\u001b[39m, \u001b[38;5;241m0.25\u001b[39m, \u001b[38;5;241m0.125\u001b[39m])\n\u001b[1;32m      5\u001b[0m torch\u001b[38;5;241m.\u001b[39msigmoid(a)\n\u001b[0;32m----> 6\u001b[0m \u001b[43mtensor\u001b[49m([\u001b[38;5;241m0.7311\u001b[39m, \u001b[38;5;241m0.8808\u001b[39m, \u001b[38;5;241m0.9820\u001b[39m, \u001b[38;5;241m0.9997\u001b[39m])\n\u001b[1;32m      7\u001b[0m torch\u001b[38;5;241m.\u001b[39msigmoid(torch\u001b[38;5;241m.\u001b[39mtensor(\u001b[38;5;241m239\u001b[39m))\n\u001b[1;32m      8\u001b[0m tensor(\u001b[38;5;241m1.\u001b[39m)\n",
      "\u001b[0;31mNameError\u001b[0m: name 'tensor' is not defined"
     ]
    }
   ],
   "source": [
    "import torch\n",
    "a = torch.tensor([1.0, 2.0, 4.0, 8.0])\n",
    "b = torch.tensor([1.0, 0.5, 0.25, 0.125])\n",
    "\n",
    "torch.sigmoid(a)\n",
    "tensor([0.7311, 0.8808, 0.9820, 0.9997])\n",
    "torch.sigmoid(torch.tensor(239))\n",
    "tensor(1.)\n",
    "torch.sigmoid(torch.tensor(0))\n",
    "tensor(0.5000)\n",
    "torch.sigmoid(torch.tensor(-0.34))\n",
    "tensor(0.4158)"
   ]
  },
  {
   "cell_type": "code",
   "execution_count": null,
   "metadata": {},
   "outputs": [],
   "source": []
  }
 ],
 "metadata": {
  "kernelspec": {
   "display_name": "pruebareg",
   "language": "python",
   "name": "python3"
  },
  "language_info": {
   "codemirror_mode": {
    "name": "ipython",
    "version": 3
   },
   "file_extension": ".py",
   "mimetype": "text/x-python",
   "name": "python",
   "nbconvert_exporter": "python",
   "pygments_lexer": "ipython3",
   "version": "3.12.2"
  }
 },
 "nbformat": 4,
 "nbformat_minor": 2
}
