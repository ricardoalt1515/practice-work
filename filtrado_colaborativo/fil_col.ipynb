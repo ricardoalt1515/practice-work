{
 "cells": [
  {
   "cell_type": "code",
   "execution_count": 2,
   "metadata": {},
   "outputs": [],
   "source": [
    "import torch\n",
    "import torch.nn as nn\n",
    "import torch.optim as optim\n",
    "import numpy as np"
   ]
  },
  {
   "cell_type": "code",
   "execution_count": 3,
   "metadata": {},
   "outputs": [],
   "source": [
    "# Simulamos algunos datos\n",
    "num_users = 10\n",
    "num_items = 10\n",
    "R = np.random.rand(num_users, num_items) * 5 # Rango de calificaciones 0-5\n",
    "\n",
    "#* Convertimos a tensor de pytorch\n",
    "R = torch.FloatTensor(R)\n",
    " "
   ]
  },
  {
   "cell_type": "code",
   "execution_count": 16,
   "metadata": {},
   "outputs": [
    {
     "name": "stdout",
     "output_type": "stream",
     "text": [
      "Epoch [500/5000], Loss: 4.3432\n",
      "Epoch [1000/5000], Loss: 1.1104\n",
      "Epoch [1500/5000], Loss: 0.9717\n",
      "Epoch [2000/5000], Loss: 0.9085\n",
      "Epoch [2500/5000], Loss: 0.8733\n",
      "Epoch [3000/5000], Loss: 0.8536\n",
      "Epoch [3500/5000], Loss: 0.8423\n",
      "Epoch [4000/5000], Loss: 0.8356\n",
      "Epoch [4500/5000], Loss: 0.8314\n",
      "Epoch [5000/5000], Loss: 0.8288\n",
      "tensor([[ 3.1750,  3.2544,  3.9182,  2.1862,  2.5496,  3.4439,  4.1217,  1.1183,\n",
      "          4.1003,  3.1134],\n",
      "        [ 0.5467,  0.6616,  2.2888,  3.8935,  2.4423,  4.0733,  0.9044,  3.9694,\n",
      "          0.9324,  1.6362],\n",
      "        [ 2.5666,  2.0081,  3.3622,  1.1732,  1.1162,  3.2936,  2.0980,  0.1954,\n",
      "          4.1904,  3.4867],\n",
      "        [ 1.4257,  1.1924,  3.0329,  3.1969,  2.0735,  4.3414,  1.3136,  2.8423,\n",
      "          2.4859,  2.7258],\n",
      "        [ 2.8310,  3.2818,  3.5308,  2.6365,  3.0255,  3.0977,  4.4277,  1.7770,\n",
      "          3.1563,  2.3032],\n",
      "        [ 2.7591,  2.3019,  3.6292,  1.5214,  1.4840,  3.5523,  2.5389,  0.5053,\n",
      "          4.3167,  3.5708],\n",
      "        [ 2.1282,  2.1135,  3.0752,  2.2894,  2.0865,  3.2899,  2.6266,  1.6237,\n",
      "          2.9397,  2.5195],\n",
      "        [ 2.7063,  3.4930,  2.2600,  0.7731,  2.3036,  0.4965,  4.9412, -0.1303,\n",
      "          2.2921,  0.8805],\n",
      "        [ 2.4670,  3.2235,  2.7969,  2.2992,  3.0016,  2.0422,  4.5796,  1.5927,\n",
      "          2.2018,  1.3137],\n",
      "        [ 2.0297,  3.0753,  3.0439,  4.1145,  4.0954,  3.2287,  4.6033,  3.7394,\n",
      "          1.4123,  1.0904]])\n"
     ]
    }
   ],
   "source": [
    "# Simulamos algunos datos\n",
    "num_users = 10\n",
    "num_items = 10\n",
    "R = np.random.rand(num_users, num_items) * 5  # Rango de calificaciones 0-5\n",
    "\n",
    "# Convertimos a tensor de PyTorch\n",
    "R = torch.FloatTensor(R)\n",
    "\n",
    "class MatrixFactorization(nn.Module):\n",
    "    def __init__(self, num_users, num_items, num_factors):\n",
    "        super(MatrixFactorization, self).__init__()\n",
    "        self.user_factors = nn.Parameter(torch.randn(num_users, num_factors))\n",
    "        self.item_factors = nn.Parameter(torch.randn(num_items, num_factors))\n",
    "    \n",
    "    def forward(self):\n",
    "        return torch.mm(self.user_factors, self.item_factors.t())\n",
    "\n",
    "# Parámetros del modelo\n",
    "num_factors = 3  # Número de factores latentes\n",
    "model = MatrixFactorization(num_users, num_items, num_factors)\n",
    "\n",
    "# Definimos la función de pérdida y el optimizador\n",
    "criterion = nn.MSELoss()\n",
    "optimizer = optim.SGD(model.parameters(), lr=0.01)\n",
    "\n",
    "# Entrenamos el modelo\n",
    "num_epochs = 5000\n",
    "for epoch in range(num_epochs):\n",
    "    model.train()\n",
    "    optimizer.zero_grad()\n",
    "    output = model()\n",
    "    loss = criterion(output, R)\n",
    "    loss.backward()\n",
    "    optimizer.step()\n",
    "    \n",
    "    if (epoch+1) % 500 == 0:\n",
    "        print(f\"Epoch [{epoch+1}/{num_epochs}], Loss: {loss.item():.4f}\")\n",
    "\n",
    "# Evaluación del modelo\n",
    "model.eval()\n",
    "with torch.no_grad():\n",
    "    predicted_ratings = model()\n",
    "    print(predicted_ratings)"
   ]
  },
  {
   "cell_type": "code",
   "execution_count": null,
   "metadata": {},
   "outputs": [],
   "source": []
  }
 ],
 "metadata": {
  "kernelspec": {
   "display_name": "pruebareg",
   "language": "python",
   "name": "python3"
  },
  "language_info": {
   "codemirror_mode": {
    "name": "ipython",
    "version": 3
   },
   "file_extension": ".py",
   "mimetype": "text/x-python",
   "name": "python",
   "nbconvert_exporter": "python",
   "pygments_lexer": "ipython3",
   "version": "3.12.2"
  }
 },
 "nbformat": 4,
 "nbformat_minor": 2
}
